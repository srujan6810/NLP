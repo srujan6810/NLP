{
  "metadata": {
    "kernelspec": {
      "language": "python",
      "display_name": "Python 3",
      "name": "python3"
    },
    "language_info": {
      "name": "python",
      "version": "3.10.13",
      "mimetype": "text/x-python",
      "codemirror_mode": {
        "name": "ipython",
        "version": 3
      },
      "pygments_lexer": "ipython3",
      "nbconvert_exporter": "python",
      "file_extension": ".py"
    },
    "kaggle": {
      "accelerator": "gpu",
      "dataSources": [
        {
          "sourceId": 1874890,
          "sourceType": "datasetVersion",
          "datasetId": 1116138
        }
      ],
      "dockerImageVersionId": 30664,
      "isInternetEnabled": true,
      "language": "python",
      "sourceType": "notebook",
      "isGpuEnabled": true
    },
    "colab": {
      "provenance": []
    }
  },
  "nbformat_minor": 0,
  "nbformat": 4,
  "cells": [
    {
      "cell_type": "code",
      "source": [
        "import os\n",
        "import sys\n",
        "import re\n",
        "import random\n",
        "import numpy as np\n",
        "import pandas as pd\n",
        "import matplotlib.pyplot as plt\n",
        "\n",
        "import tensorflow as tf\n",
        "from tensorflow import keras\n",
        "from keras import layers, models\n",
        "\n",
        "from sklearn.feature_extraction.text import CountVectorizer\n",
        "from sklearn.model_selection import train_test_split\n",
        "from sklearn.utils.class_weight import compute_class_weight\n",
        "\n",
        "from sklearn.metrics import classification_report\n",
        "from sklearn.metrics import ConfusionMatrixDisplay\n",
        "\n",
        "import nltk\n",
        "from nltk.corpus import stopwords\n",
        "from nltk.stem import WordNetLemmatizer\n",
        "\n",
        "# Download WordNet corpus\n",
        "nltk.download('wordnet')\n",
        "\n",
        "SEED = 42\n",
        "tf.random.set_seed(SEED)\n",
        "np.random.seed(SEED)\n",
        "random.seed(SEED)\n",
        "\n",
        "from tempfile import NamedTemporaryFile\n",
        "from urllib.request import urlopen\n",
        "from urllib.parse import unquote, urlparse\n",
        "from urllib.error import HTTPError\n",
        "from zipfile import ZipFile\n",
        "import tarfile\n",
        "import shutil\n",
        "\n",
        "CHUNK_SIZE = 40960\n",
        "DATA_SOURCE_MAPPING = 'emotion-detection-from-text:https%3A%2F%2Fstorage.googleapis.com%2Fkaggle-data-sets%2F1116138%2F1874890%2Fbundle%2Farchive.zip%3FX-Goog-Algorithm%3DGOOG4-RSA-SHA256%26X-Goog-Credential%3Dgcp-kaggle-com%2540kaggle-161607.iam.gserviceaccount.com%252F20240401%252Fauto%252Fstorage%252Fgoog4_request%26X-Goog-Date%3D20240401T002128Z%26X-Goog-Expires%3D259200%26X-Goog-SignedHeaders%3Dhost%26X-Goog-Signature%3D826ee9f977a11a83061a978ad146f82930b44f1755e72739922678e181d3db3bcad4e4cf4418086ac89e3eedb74533fd1f5dd37e59a08aa2c427ee4132cde17729c243aa876454b1de4d29f75832b042e3ee4f71dd1e76066bfe2e821631ba9ff4eb0d11afe3bb674a29fac44ea60cad4bd2bfb271f88d270283d9e57402b6d3f8eccbf08f86a16efed402740d7f959de56a8baacab5c1736d691b26176d28eff43923aaa1b8b1fb760853a132b3305358f794842914180f936f8c4fff53b90b264cc858b201f8350d1b0f4acf089b03db4be96a2dd2ccb8eb4a4c62f627e24aa32570cf73099d8cc98eb2989535329dbdad37da7369300791ab54308fd586ec'\n",
        "\n",
        "# Set the destination path where the data will be downloaded\n",
        "DESTINATION_PATH = '/content/data'\n",
        "\n",
        "for data_source_mapping in DATA_SOURCE_MAPPING.split(','):\n",
        "    directory, download_url_encoded = data_source_mapping.split(':')\n",
        "    download_url = unquote(download_url_encoded)\n",
        "    filename = urlparse(download_url).path\n",
        "    destination_path = os.path.join(DESTINATION_PATH, directory)\n",
        "    os.makedirs(destination_path, exist_ok=True)\n",
        "    try:\n",
        "        with urlopen(download_url) as fileres, NamedTemporaryFile() as tfile:\n",
        "            total_length = fileres.headers['content-length']\n",
        "            print(f'Downloading {directory}, {total_length} bytes compressed')\n",
        "            dl = 0\n",
        "            data = fileres.read(CHUNK_SIZE)\n",
        "            while len(data) > 0:\n",
        "                dl += len(data)\n",
        "                tfile.write(data)\n",
        "                done = int(50 * dl / int(total_length))\n",
        "                sys.stdout.write(f\"\\r[{'=' * done}{' ' * (50-done)}] {dl} bytes downloaded\")\n",
        "                sys.stdout.flush()\n",
        "                data = fileres.read(CHUNK_SIZE)\n",
        "            if filename.endswith('.zip'):\n",
        "              with ZipFile(tfile) as zfile:\n",
        "                zfile.extractall(destination_path)\n",
        "            else:\n",
        "              with tarfile.open(tfile.name) as tarfile:\n",
        "                tarfile.extractall(destination_path)\n",
        "            print(f'\\nDownloaded and uncompressed: {directory}')\n",
        "    except HTTPError as e:\n",
        "        print(f'Failed to load (likely expired) {download_url} to path {destination_path}')\n",
        "        continue\n",
        "    except OSError as e:\n",
        "        print(f'Failed to load {download_url} to path {destination_path}')\n",
        "        continue\n",
        "\n",
        "print('Data source import complete.')\n"
      ],
      "metadata": {
        "colab": {
          "base_uri": "https://localhost:8080/"
        },
        "id": "9kqF8VXZNg2v",
        "outputId": "4fedabb3-ed77-40eb-d963-00c908633384"
      },
      "execution_count": 32,
      "outputs": [
        {
          "output_type": "stream",
          "name": "stdout",
          "text": [
            "Downloading emotion-detection-from-text, 1634382 bytes compressed\n",
            "[===========================                       ] 901120 bytes downloaded"
          ]
        },
        {
          "output_type": "stream",
          "name": "stderr",
          "text": [
            "[nltk_data] Downloading package wordnet to /root/nltk_data...\n",
            "[nltk_data]   Package wordnet is already up-to-date!\n"
          ]
        },
        {
          "output_type": "stream",
          "name": "stdout",
          "text": [
            "[==================================================] 1634382 bytes downloaded\n",
            "Downloaded and uncompressed: emotion-detection-from-text\n",
            "Data source import complete.\n"
          ]
        }
      ]
    },
    {
      "cell_type": "markdown",
      "source": [
        "# Read dataset"
      ],
      "metadata": {
        "id": "WSIkZyVcCFBo"
      }
    },
    {
      "cell_type": "code",
      "source": [
        "df = pd.read_csv(\n",
        "    '/kaggle/input/emotion-detection-from-text/tweet_emotions.csv',\n",
        "    usecols=['content', 'sentiment'],\n",
        "    dtype={'content': 'string', 'sentiment': 'category'}\n",
        ")\n",
        "df.rename(columns={'content': 'sentence', 'sentiment': 'label'}, inplace=True)\n",
        "\n",
        "df = df[ (df.label == 'happiness') | (df.label == 'sadness') ]\n",
        "df.label = df.label.cat.remove_unused_categories()\n",
        "\n",
        "label_names = df.label.cat.categories.tolist()\n",
        "\n",
        "train_df, test_df = train_test_split(df, test_size=0.2, random_state=SEED)\n",
        "\n",
        "print(f'{len(train_df)=}, {len(test_df)=}')\n",
        "print(label_names)"
      ],
      "metadata": {
        "execution": {
          "iopub.status.busy": "2024-03-01T10:49:57.458134Z",
          "iopub.execute_input": "2024-03-01T10:49:57.458802Z",
          "iopub.status.idle": "2024-03-01T10:49:57.540274Z",
          "shell.execute_reply.started": "2024-03-01T10:49:57.458756Z",
          "shell.execute_reply": "2024-03-01T10:49:57.539363Z"
        },
        "trusted": true,
        "id": "I2A85B76CFBq",
        "colab": {
          "base_uri": "https://localhost:8080/"
        },
        "outputId": "9612f726-8c5d-473f-bbf8-e5cf9d547905"
      },
      "execution_count": 21,
      "outputs": [
        {
          "output_type": "stream",
          "name": "stdout",
          "text": [
            "len(train_df)=8299, len(test_df)=2075\n",
            "['happiness', 'sadness']\n"
          ]
        }
      ]
    },
    {
      "cell_type": "markdown",
      "source": [
        "# Distribution of classes"
      ],
      "metadata": {
        "id": "gz0PkKFrCFBr"
      }
    },
    {
      "cell_type": "code",
      "source": [
        "display(train_df.head())\n",
        "display(test_df.head())\n",
        "\n",
        "plt.figure(figsize=(12,3))\n",
        "plt.bar(x=label_names, height=np.bincount(df['label'].cat.codes))\n",
        "\n",
        "class_weights = dict(enumerate(\n",
        "    compute_class_weight(\n",
        "        class_weight=\"balanced\",\n",
        "        classes=pd.unique(df['label']),\n",
        "        y=df['label']\n",
        "    )\n",
        "))"
      ],
      "metadata": {
        "execution": {
          "iopub.status.busy": "2024-03-01T10:49:57.541871Z",
          "iopub.execute_input": "2024-03-01T10:49:57.542162Z",
          "iopub.status.idle": "2024-03-01T10:49:57.757298Z",
          "shell.execute_reply.started": "2024-03-01T10:49:57.542137Z",
          "shell.execute_reply": "2024-03-01T10:49:57.756373Z"
        },
        "trusted": true,
        "id": "8vUA3nr2CFBr",
        "colab": {
          "base_uri": "https://localhost:8080/",
          "height": 669
        },
        "outputId": "873e02f6-67b6-4bff-ee8a-5d94924a6f5a"
      },
      "execution_count": 22,
      "outputs": [
        {
          "output_type": "display_data",
          "data": {
            "text/plain": [
              "           label                                           sentence\n",
              "23531    sadness  &quot;My problem isn't that I miss you... 'cau...\n",
              "8051     sadness  That's it? It's done already? This is one proo...\n",
              "11499    sadness  I am so hungry! And there is no food for me to...\n",
              "31288  happiness  Feet hurt...finally in bed...will not forget t...\n",
              "18561    sadness                                     really ill atm"
            ],
            "text/html": [
              "\n",
              "  <div id=\"df-248fdef3-3ee7-43f5-a978-cd609b800ddd\" class=\"colab-df-container\">\n",
              "    <div>\n",
              "<style scoped>\n",
              "    .dataframe tbody tr th:only-of-type {\n",
              "        vertical-align: middle;\n",
              "    }\n",
              "\n",
              "    .dataframe tbody tr th {\n",
              "        vertical-align: top;\n",
              "    }\n",
              "\n",
              "    .dataframe thead th {\n",
              "        text-align: right;\n",
              "    }\n",
              "</style>\n",
              "<table border=\"1\" class=\"dataframe\">\n",
              "  <thead>\n",
              "    <tr style=\"text-align: right;\">\n",
              "      <th></th>\n",
              "      <th>label</th>\n",
              "      <th>sentence</th>\n",
              "    </tr>\n",
              "  </thead>\n",
              "  <tbody>\n",
              "    <tr>\n",
              "      <th>23531</th>\n",
              "      <td>sadness</td>\n",
              "      <td>&amp;quot;My problem isn't that I miss you... 'cau...</td>\n",
              "    </tr>\n",
              "    <tr>\n",
              "      <th>8051</th>\n",
              "      <td>sadness</td>\n",
              "      <td>That's it? It's done already? This is one proo...</td>\n",
              "    </tr>\n",
              "    <tr>\n",
              "      <th>11499</th>\n",
              "      <td>sadness</td>\n",
              "      <td>I am so hungry! And there is no food for me to...</td>\n",
              "    </tr>\n",
              "    <tr>\n",
              "      <th>31288</th>\n",
              "      <td>happiness</td>\n",
              "      <td>Feet hurt...finally in bed...will not forget t...</td>\n",
              "    </tr>\n",
              "    <tr>\n",
              "      <th>18561</th>\n",
              "      <td>sadness</td>\n",
              "      <td>really ill atm</td>\n",
              "    </tr>\n",
              "  </tbody>\n",
              "</table>\n",
              "</div>\n",
              "    <div class=\"colab-df-buttons\">\n",
              "\n",
              "  <div class=\"colab-df-container\">\n",
              "    <button class=\"colab-df-convert\" onclick=\"convertToInteractive('df-248fdef3-3ee7-43f5-a978-cd609b800ddd')\"\n",
              "            title=\"Convert this dataframe to an interactive table.\"\n",
              "            style=\"display:none;\">\n",
              "\n",
              "  <svg xmlns=\"http://www.w3.org/2000/svg\" height=\"24px\" viewBox=\"0 -960 960 960\">\n",
              "    <path d=\"M120-120v-720h720v720H120Zm60-500h600v-160H180v160Zm220 220h160v-160H400v160Zm0 220h160v-160H400v160ZM180-400h160v-160H180v160Zm440 0h160v-160H620v160ZM180-180h160v-160H180v160Zm440 0h160v-160H620v160Z\"/>\n",
              "  </svg>\n",
              "    </button>\n",
              "\n",
              "  <style>\n",
              "    .colab-df-container {\n",
              "      display:flex;\n",
              "      gap: 12px;\n",
              "    }\n",
              "\n",
              "    .colab-df-convert {\n",
              "      background-color: #E8F0FE;\n",
              "      border: none;\n",
              "      border-radius: 50%;\n",
              "      cursor: pointer;\n",
              "      display: none;\n",
              "      fill: #1967D2;\n",
              "      height: 32px;\n",
              "      padding: 0 0 0 0;\n",
              "      width: 32px;\n",
              "    }\n",
              "\n",
              "    .colab-df-convert:hover {\n",
              "      background-color: #E2EBFA;\n",
              "      box-shadow: 0px 1px 2px rgba(60, 64, 67, 0.3), 0px 1px 3px 1px rgba(60, 64, 67, 0.15);\n",
              "      fill: #174EA6;\n",
              "    }\n",
              "\n",
              "    .colab-df-buttons div {\n",
              "      margin-bottom: 4px;\n",
              "    }\n",
              "\n",
              "    [theme=dark] .colab-df-convert {\n",
              "      background-color: #3B4455;\n",
              "      fill: #D2E3FC;\n",
              "    }\n",
              "\n",
              "    [theme=dark] .colab-df-convert:hover {\n",
              "      background-color: #434B5C;\n",
              "      box-shadow: 0px 1px 3px 1px rgba(0, 0, 0, 0.15);\n",
              "      filter: drop-shadow(0px 1px 2px rgba(0, 0, 0, 0.3));\n",
              "      fill: #FFFFFF;\n",
              "    }\n",
              "  </style>\n",
              "\n",
              "    <script>\n",
              "      const buttonEl =\n",
              "        document.querySelector('#df-248fdef3-3ee7-43f5-a978-cd609b800ddd button.colab-df-convert');\n",
              "      buttonEl.style.display =\n",
              "        google.colab.kernel.accessAllowed ? 'block' : 'none';\n",
              "\n",
              "      async function convertToInteractive(key) {\n",
              "        const element = document.querySelector('#df-248fdef3-3ee7-43f5-a978-cd609b800ddd');\n",
              "        const dataTable =\n",
              "          await google.colab.kernel.invokeFunction('convertToInteractive',\n",
              "                                                    [key], {});\n",
              "        if (!dataTable) return;\n",
              "\n",
              "        const docLinkHtml = 'Like what you see? Visit the ' +\n",
              "          '<a target=\"_blank\" href=https://colab.research.google.com/notebooks/data_table.ipynb>data table notebook</a>'\n",
              "          + ' to learn more about interactive tables.';\n",
              "        element.innerHTML = '';\n",
              "        dataTable['output_type'] = 'display_data';\n",
              "        await google.colab.output.renderOutput(dataTable, element);\n",
              "        const docLink = document.createElement('div');\n",
              "        docLink.innerHTML = docLinkHtml;\n",
              "        element.appendChild(docLink);\n",
              "      }\n",
              "    </script>\n",
              "  </div>\n",
              "\n",
              "\n",
              "<div id=\"df-1a03e85a-deb2-460d-a3f3-1ea1133b22a7\">\n",
              "  <button class=\"colab-df-quickchart\" onclick=\"quickchart('df-1a03e85a-deb2-460d-a3f3-1ea1133b22a7')\"\n",
              "            title=\"Suggest charts\"\n",
              "            style=\"display:none;\">\n",
              "\n",
              "<svg xmlns=\"http://www.w3.org/2000/svg\" height=\"24px\"viewBox=\"0 0 24 24\"\n",
              "     width=\"24px\">\n",
              "    <g>\n",
              "        <path d=\"M19 3H5c-1.1 0-2 .9-2 2v14c0 1.1.9 2 2 2h14c1.1 0 2-.9 2-2V5c0-1.1-.9-2-2-2zM9 17H7v-7h2v7zm4 0h-2V7h2v10zm4 0h-2v-4h2v4z\"/>\n",
              "    </g>\n",
              "</svg>\n",
              "  </button>\n",
              "\n",
              "<style>\n",
              "  .colab-df-quickchart {\n",
              "      --bg-color: #E8F0FE;\n",
              "      --fill-color: #1967D2;\n",
              "      --hover-bg-color: #E2EBFA;\n",
              "      --hover-fill-color: #174EA6;\n",
              "      --disabled-fill-color: #AAA;\n",
              "      --disabled-bg-color: #DDD;\n",
              "  }\n",
              "\n",
              "  [theme=dark] .colab-df-quickchart {\n",
              "      --bg-color: #3B4455;\n",
              "      --fill-color: #D2E3FC;\n",
              "      --hover-bg-color: #434B5C;\n",
              "      --hover-fill-color: #FFFFFF;\n",
              "      --disabled-bg-color: #3B4455;\n",
              "      --disabled-fill-color: #666;\n",
              "  }\n",
              "\n",
              "  .colab-df-quickchart {\n",
              "    background-color: var(--bg-color);\n",
              "    border: none;\n",
              "    border-radius: 50%;\n",
              "    cursor: pointer;\n",
              "    display: none;\n",
              "    fill: var(--fill-color);\n",
              "    height: 32px;\n",
              "    padding: 0;\n",
              "    width: 32px;\n",
              "  }\n",
              "\n",
              "  .colab-df-quickchart:hover {\n",
              "    background-color: var(--hover-bg-color);\n",
              "    box-shadow: 0 1px 2px rgba(60, 64, 67, 0.3), 0 1px 3px 1px rgba(60, 64, 67, 0.15);\n",
              "    fill: var(--button-hover-fill-color);\n",
              "  }\n",
              "\n",
              "  .colab-df-quickchart-complete:disabled,\n",
              "  .colab-df-quickchart-complete:disabled:hover {\n",
              "    background-color: var(--disabled-bg-color);\n",
              "    fill: var(--disabled-fill-color);\n",
              "    box-shadow: none;\n",
              "  }\n",
              "\n",
              "  .colab-df-spinner {\n",
              "    border: 2px solid var(--fill-color);\n",
              "    border-color: transparent;\n",
              "    border-bottom-color: var(--fill-color);\n",
              "    animation:\n",
              "      spin 1s steps(1) infinite;\n",
              "  }\n",
              "\n",
              "  @keyframes spin {\n",
              "    0% {\n",
              "      border-color: transparent;\n",
              "      border-bottom-color: var(--fill-color);\n",
              "      border-left-color: var(--fill-color);\n",
              "    }\n",
              "    20% {\n",
              "      border-color: transparent;\n",
              "      border-left-color: var(--fill-color);\n",
              "      border-top-color: var(--fill-color);\n",
              "    }\n",
              "    30% {\n",
              "      border-color: transparent;\n",
              "      border-left-color: var(--fill-color);\n",
              "      border-top-color: var(--fill-color);\n",
              "      border-right-color: var(--fill-color);\n",
              "    }\n",
              "    40% {\n",
              "      border-color: transparent;\n",
              "      border-right-color: var(--fill-color);\n",
              "      border-top-color: var(--fill-color);\n",
              "    }\n",
              "    60% {\n",
              "      border-color: transparent;\n",
              "      border-right-color: var(--fill-color);\n",
              "    }\n",
              "    80% {\n",
              "      border-color: transparent;\n",
              "      border-right-color: var(--fill-color);\n",
              "      border-bottom-color: var(--fill-color);\n",
              "    }\n",
              "    90% {\n",
              "      border-color: transparent;\n",
              "      border-bottom-color: var(--fill-color);\n",
              "    }\n",
              "  }\n",
              "</style>\n",
              "\n",
              "  <script>\n",
              "    async function quickchart(key) {\n",
              "      const quickchartButtonEl =\n",
              "        document.querySelector('#' + key + ' button');\n",
              "      quickchartButtonEl.disabled = true;  // To prevent multiple clicks.\n",
              "      quickchartButtonEl.classList.add('colab-df-spinner');\n",
              "      try {\n",
              "        const charts = await google.colab.kernel.invokeFunction(\n",
              "            'suggestCharts', [key], {});\n",
              "      } catch (error) {\n",
              "        console.error('Error during call to suggestCharts:', error);\n",
              "      }\n",
              "      quickchartButtonEl.classList.remove('colab-df-spinner');\n",
              "      quickchartButtonEl.classList.add('colab-df-quickchart-complete');\n",
              "    }\n",
              "    (() => {\n",
              "      let quickchartButtonEl =\n",
              "        document.querySelector('#df-1a03e85a-deb2-460d-a3f3-1ea1133b22a7 button');\n",
              "      quickchartButtonEl.style.display =\n",
              "        google.colab.kernel.accessAllowed ? 'block' : 'none';\n",
              "    })();\n",
              "  </script>\n",
              "</div>\n",
              "\n",
              "    </div>\n",
              "  </div>\n"
            ],
            "application/vnd.google.colaboratory.intrinsic+json": {
              "type": "dataframe",
              "summary": "{\n  \"name\": \"))\",\n  \"rows\": 5,\n  \"fields\": [\n    {\n      \"column\": \"label\",\n      \"properties\": {\n        \"dtype\": \"category\",\n        \"num_unique_values\": 2,\n        \"samples\": [\n          \"happiness\",\n          \"sadness\"\n        ],\n        \"semantic_type\": \"\",\n        \"description\": \"\"\n      }\n    },\n    {\n      \"column\": \"sentence\",\n      \"properties\": {\n        \"dtype\": \"string\",\n        \"num_unique_values\": 5,\n        \"samples\": [\n          \"That's it? It's done already? This is one proof that there's nothing fair in this world.   http://bit.ly/10UEMq\",\n          \"really ill atm\"\n        ],\n        \"semantic_type\": \"\",\n        \"description\": \"\"\n      }\n    }\n  ]\n}"
            }
          },
          "metadata": {}
        },
        {
          "output_type": "display_data",
          "data": {
            "text/plain": [
              "           label                                           sentence\n",
              "11535    sadness   looks like we're rained out for weekend climbing\n",
              "32287    sadness  Hi Everyone miss me much?  muahhhhhhhhhhhhhhhh...\n",
              "17534    sadness  rode the moped to the mall. fun stuff, its fli...\n",
              "4696     sadness  gutted!!! vodafone wont repair my faulty Samsu...\n",
              "23706  happiness             @shadowowns aww, &lt;3 why thank youu."
            ],
            "text/html": [
              "\n",
              "  <div id=\"df-c6e51ad0-0847-4a72-88b2-805b5f2a99de\" class=\"colab-df-container\">\n",
              "    <div>\n",
              "<style scoped>\n",
              "    .dataframe tbody tr th:only-of-type {\n",
              "        vertical-align: middle;\n",
              "    }\n",
              "\n",
              "    .dataframe tbody tr th {\n",
              "        vertical-align: top;\n",
              "    }\n",
              "\n",
              "    .dataframe thead th {\n",
              "        text-align: right;\n",
              "    }\n",
              "</style>\n",
              "<table border=\"1\" class=\"dataframe\">\n",
              "  <thead>\n",
              "    <tr style=\"text-align: right;\">\n",
              "      <th></th>\n",
              "      <th>label</th>\n",
              "      <th>sentence</th>\n",
              "    </tr>\n",
              "  </thead>\n",
              "  <tbody>\n",
              "    <tr>\n",
              "      <th>11535</th>\n",
              "      <td>sadness</td>\n",
              "      <td>looks like we're rained out for weekend climbing</td>\n",
              "    </tr>\n",
              "    <tr>\n",
              "      <th>32287</th>\n",
              "      <td>sadness</td>\n",
              "      <td>Hi Everyone miss me much?  muahhhhhhhhhhhhhhhh...</td>\n",
              "    </tr>\n",
              "    <tr>\n",
              "      <th>17534</th>\n",
              "      <td>sadness</td>\n",
              "      <td>rode the moped to the mall. fun stuff, its fli...</td>\n",
              "    </tr>\n",
              "    <tr>\n",
              "      <th>4696</th>\n",
              "      <td>sadness</td>\n",
              "      <td>gutted!!! vodafone wont repair my faulty Samsu...</td>\n",
              "    </tr>\n",
              "    <tr>\n",
              "      <th>23706</th>\n",
              "      <td>happiness</td>\n",
              "      <td>@shadowowns aww, &amp;lt;3 why thank youu.</td>\n",
              "    </tr>\n",
              "  </tbody>\n",
              "</table>\n",
              "</div>\n",
              "    <div class=\"colab-df-buttons\">\n",
              "\n",
              "  <div class=\"colab-df-container\">\n",
              "    <button class=\"colab-df-convert\" onclick=\"convertToInteractive('df-c6e51ad0-0847-4a72-88b2-805b5f2a99de')\"\n",
              "            title=\"Convert this dataframe to an interactive table.\"\n",
              "            style=\"display:none;\">\n",
              "\n",
              "  <svg xmlns=\"http://www.w3.org/2000/svg\" height=\"24px\" viewBox=\"0 -960 960 960\">\n",
              "    <path d=\"M120-120v-720h720v720H120Zm60-500h600v-160H180v160Zm220 220h160v-160H400v160Zm0 220h160v-160H400v160ZM180-400h160v-160H180v160Zm440 0h160v-160H620v160ZM180-180h160v-160H180v160Zm440 0h160v-160H620v160Z\"/>\n",
              "  </svg>\n",
              "    </button>\n",
              "\n",
              "  <style>\n",
              "    .colab-df-container {\n",
              "      display:flex;\n",
              "      gap: 12px;\n",
              "    }\n",
              "\n",
              "    .colab-df-convert {\n",
              "      background-color: #E8F0FE;\n",
              "      border: none;\n",
              "      border-radius: 50%;\n",
              "      cursor: pointer;\n",
              "      display: none;\n",
              "      fill: #1967D2;\n",
              "      height: 32px;\n",
              "      padding: 0 0 0 0;\n",
              "      width: 32px;\n",
              "    }\n",
              "\n",
              "    .colab-df-convert:hover {\n",
              "      background-color: #E2EBFA;\n",
              "      box-shadow: 0px 1px 2px rgba(60, 64, 67, 0.3), 0px 1px 3px 1px rgba(60, 64, 67, 0.15);\n",
              "      fill: #174EA6;\n",
              "    }\n",
              "\n",
              "    .colab-df-buttons div {\n",
              "      margin-bottom: 4px;\n",
              "    }\n",
              "\n",
              "    [theme=dark] .colab-df-convert {\n",
              "      background-color: #3B4455;\n",
              "      fill: #D2E3FC;\n",
              "    }\n",
              "\n",
              "    [theme=dark] .colab-df-convert:hover {\n",
              "      background-color: #434B5C;\n",
              "      box-shadow: 0px 1px 3px 1px rgba(0, 0, 0, 0.15);\n",
              "      filter: drop-shadow(0px 1px 2px rgba(0, 0, 0, 0.3));\n",
              "      fill: #FFFFFF;\n",
              "    }\n",
              "  </style>\n",
              "\n",
              "    <script>\n",
              "      const buttonEl =\n",
              "        document.querySelector('#df-c6e51ad0-0847-4a72-88b2-805b5f2a99de button.colab-df-convert');\n",
              "      buttonEl.style.display =\n",
              "        google.colab.kernel.accessAllowed ? 'block' : 'none';\n",
              "\n",
              "      async function convertToInteractive(key) {\n",
              "        const element = document.querySelector('#df-c6e51ad0-0847-4a72-88b2-805b5f2a99de');\n",
              "        const dataTable =\n",
              "          await google.colab.kernel.invokeFunction('convertToInteractive',\n",
              "                                                    [key], {});\n",
              "        if (!dataTable) return;\n",
              "\n",
              "        const docLinkHtml = 'Like what you see? Visit the ' +\n",
              "          '<a target=\"_blank\" href=https://colab.research.google.com/notebooks/data_table.ipynb>data table notebook</a>'\n",
              "          + ' to learn more about interactive tables.';\n",
              "        element.innerHTML = '';\n",
              "        dataTable['output_type'] = 'display_data';\n",
              "        await google.colab.output.renderOutput(dataTable, element);\n",
              "        const docLink = document.createElement('div');\n",
              "        docLink.innerHTML = docLinkHtml;\n",
              "        element.appendChild(docLink);\n",
              "      }\n",
              "    </script>\n",
              "  </div>\n",
              "\n",
              "\n",
              "<div id=\"df-68818fef-c8fe-42bb-bd7b-2b11ff5f3060\">\n",
              "  <button class=\"colab-df-quickchart\" onclick=\"quickchart('df-68818fef-c8fe-42bb-bd7b-2b11ff5f3060')\"\n",
              "            title=\"Suggest charts\"\n",
              "            style=\"display:none;\">\n",
              "\n",
              "<svg xmlns=\"http://www.w3.org/2000/svg\" height=\"24px\"viewBox=\"0 0 24 24\"\n",
              "     width=\"24px\">\n",
              "    <g>\n",
              "        <path d=\"M19 3H5c-1.1 0-2 .9-2 2v14c0 1.1.9 2 2 2h14c1.1 0 2-.9 2-2V5c0-1.1-.9-2-2-2zM9 17H7v-7h2v7zm4 0h-2V7h2v10zm4 0h-2v-4h2v4z\"/>\n",
              "    </g>\n",
              "</svg>\n",
              "  </button>\n",
              "\n",
              "<style>\n",
              "  .colab-df-quickchart {\n",
              "      --bg-color: #E8F0FE;\n",
              "      --fill-color: #1967D2;\n",
              "      --hover-bg-color: #E2EBFA;\n",
              "      --hover-fill-color: #174EA6;\n",
              "      --disabled-fill-color: #AAA;\n",
              "      --disabled-bg-color: #DDD;\n",
              "  }\n",
              "\n",
              "  [theme=dark] .colab-df-quickchart {\n",
              "      --bg-color: #3B4455;\n",
              "      --fill-color: #D2E3FC;\n",
              "      --hover-bg-color: #434B5C;\n",
              "      --hover-fill-color: #FFFFFF;\n",
              "      --disabled-bg-color: #3B4455;\n",
              "      --disabled-fill-color: #666;\n",
              "  }\n",
              "\n",
              "  .colab-df-quickchart {\n",
              "    background-color: var(--bg-color);\n",
              "    border: none;\n",
              "    border-radius: 50%;\n",
              "    cursor: pointer;\n",
              "    display: none;\n",
              "    fill: var(--fill-color);\n",
              "    height: 32px;\n",
              "    padding: 0;\n",
              "    width: 32px;\n",
              "  }\n",
              "\n",
              "  .colab-df-quickchart:hover {\n",
              "    background-color: var(--hover-bg-color);\n",
              "    box-shadow: 0 1px 2px rgba(60, 64, 67, 0.3), 0 1px 3px 1px rgba(60, 64, 67, 0.15);\n",
              "    fill: var(--button-hover-fill-color);\n",
              "  }\n",
              "\n",
              "  .colab-df-quickchart-complete:disabled,\n",
              "  .colab-df-quickchart-complete:disabled:hover {\n",
              "    background-color: var(--disabled-bg-color);\n",
              "    fill: var(--disabled-fill-color);\n",
              "    box-shadow: none;\n",
              "  }\n",
              "\n",
              "  .colab-df-spinner {\n",
              "    border: 2px solid var(--fill-color);\n",
              "    border-color: transparent;\n",
              "    border-bottom-color: var(--fill-color);\n",
              "    animation:\n",
              "      spin 1s steps(1) infinite;\n",
              "  }\n",
              "\n",
              "  @keyframes spin {\n",
              "    0% {\n",
              "      border-color: transparent;\n",
              "      border-bottom-color: var(--fill-color);\n",
              "      border-left-color: var(--fill-color);\n",
              "    }\n",
              "    20% {\n",
              "      border-color: transparent;\n",
              "      border-left-color: var(--fill-color);\n",
              "      border-top-color: var(--fill-color);\n",
              "    }\n",
              "    30% {\n",
              "      border-color: transparent;\n",
              "      border-left-color: var(--fill-color);\n",
              "      border-top-color: var(--fill-color);\n",
              "      border-right-color: var(--fill-color);\n",
              "    }\n",
              "    40% {\n",
              "      border-color: transparent;\n",
              "      border-right-color: var(--fill-color);\n",
              "      border-top-color: var(--fill-color);\n",
              "    }\n",
              "    60% {\n",
              "      border-color: transparent;\n",
              "      border-right-color: var(--fill-color);\n",
              "    }\n",
              "    80% {\n",
              "      border-color: transparent;\n",
              "      border-right-color: var(--fill-color);\n",
              "      border-bottom-color: var(--fill-color);\n",
              "    }\n",
              "    90% {\n",
              "      border-color: transparent;\n",
              "      border-bottom-color: var(--fill-color);\n",
              "    }\n",
              "  }\n",
              "</style>\n",
              "\n",
              "  <script>\n",
              "    async function quickchart(key) {\n",
              "      const quickchartButtonEl =\n",
              "        document.querySelector('#' + key + ' button');\n",
              "      quickchartButtonEl.disabled = true;  // To prevent multiple clicks.\n",
              "      quickchartButtonEl.classList.add('colab-df-spinner');\n",
              "      try {\n",
              "        const charts = await google.colab.kernel.invokeFunction(\n",
              "            'suggestCharts', [key], {});\n",
              "      } catch (error) {\n",
              "        console.error('Error during call to suggestCharts:', error);\n",
              "      }\n",
              "      quickchartButtonEl.classList.remove('colab-df-spinner');\n",
              "      quickchartButtonEl.classList.add('colab-df-quickchart-complete');\n",
              "    }\n",
              "    (() => {\n",
              "      let quickchartButtonEl =\n",
              "        document.querySelector('#df-68818fef-c8fe-42bb-bd7b-2b11ff5f3060 button');\n",
              "      quickchartButtonEl.style.display =\n",
              "        google.colab.kernel.accessAllowed ? 'block' : 'none';\n",
              "    })();\n",
              "  </script>\n",
              "</div>\n",
              "\n",
              "    </div>\n",
              "  </div>\n"
            ],
            "application/vnd.google.colaboratory.intrinsic+json": {
              "type": "dataframe",
              "summary": "{\n  \"name\": \"))\",\n  \"rows\": 5,\n  \"fields\": [\n    {\n      \"column\": \"label\",\n      \"properties\": {\n        \"dtype\": \"category\",\n        \"num_unique_values\": 2,\n        \"samples\": [\n          \"happiness\",\n          \"sadness\"\n        ],\n        \"semantic_type\": \"\",\n        \"description\": \"\"\n      }\n    },\n    {\n      \"column\": \"sentence\",\n      \"properties\": {\n        \"dtype\": \"string\",\n        \"num_unique_values\": 5,\n        \"samples\": [\n          \"Hi Everyone miss me much?  muahhhhhhhhhhhhhhhhhhhhhhhhhhhhhhhh ;)\",\n          \"@shadowowns aww, &lt;3 why thank youu.\"\n        ],\n        \"semantic_type\": \"\",\n        \"description\": \"\"\n      }\n    }\n  ]\n}"
            }
          },
          "metadata": {}
        },
        {
          "output_type": "display_data",
          "data": {
            "text/plain": [
              "<Figure size 1200x300 with 1 Axes>"
            ],
            "image/png": "[encoded data removed]"
          },
          "metadata": {}
        }
      ]
    },
    {
      "cell_type": "markdown",
      "source": [
        "# Preprocessors"
      ],
      "metadata": {
        "id": "0_swhj7ACFBs"
      }
    },
    {
      "cell_type": "code",
      "source": [
        "REPLACE_BY_SPACE_RE = re.compile('[/(){}\\[\\]\\|@,;]')    # add/remove regex as required\n",
        "BAD_SYMBOLS_RE = re.compile('[^0-9a-z #+_]')\n",
        "NUMBERS = re.compile('\\d+')\n",
        "\n",
        "STOPWORDS = set(stopwords.words('english'))\n",
        "lemmatizer = WordNetLemmatizer()\n",
        "\n",
        "def clean_text(text):\n",
        "    text = tf.strings.lower(text)\n",
        "    text = tf.strings.regex_replace(text, 'http\\S+', '')\n",
        "    text = tf.strings.regex_replace(text, '([@#][A-Za-z0-9_]+)|(\\w+:\\/\\/\\S+)', ' ')\n",
        "    text = tf.strings.regex_replace(text, '[/(){}\\[\\]\\|@,;]', ' ')\n",
        "    text = tf.strings.regex_replace(text, '[^0-9a-z #+_]', '')\n",
        "    text = tf.strings.regex_replace(text, '[\\d+]', '')\n",
        "    return text\n",
        "\n",
        "def lemmatize_tokenize(text):\n",
        "    # TODO: rework to use tf.strings\n",
        "    # remove stopwords and lemmatize\n",
        "    tokens = [word for word in text.split() if word not in STOPWORDS]\n",
        "    tokens = [lemmatizer.lemmatize(token) for token in tokens]\n",
        "    return tokens"
      ],
      "metadata": {
        "execution": {
          "iopub.status.busy": "2024-03-01T10:49:57.758688Z",
          "iopub.execute_input": "2024-03-01T10:49:57.759116Z",
          "iopub.status.idle": "2024-03-01T10:49:57.768867Z",
          "shell.execute_reply.started": "2024-03-01T10:49:57.759082Z",
          "shell.execute_reply": "2024-03-01T10:49:57.768044Z"
        },
        "trusted": true,
        "id": "SCSps2pCCFBs"
      },
      "execution_count": 23,
      "outputs": []
    },
    {
      "cell_type": "markdown",
      "source": [
        "# Model"
      ],
      "metadata": {
        "id": "j542JRANCFBt"
      }
    },
    {
      "cell_type": "code",
      "source": [
        "N_CLASSES = len(label_names)\n",
        "MAX_FEATURES = 5_000\n",
        "MAX_SEQ_LEN = 256\n",
        "EMBEDDING_DIM = 128\n",
        "\n",
        "vectorizer_layer = layers.TextVectorization(\n",
        "    max_tokens=MAX_FEATURES,\n",
        "    standardize=clean_text,\n",
        "#     split=lemmatize_tokenize,\n",
        "    output_sequence_length=MAX_SEQ_LEN,\n",
        "    output_mode='int'\n",
        ")\n",
        "vectorizer_layer.adapt(train_df.sentence)"
      ],
      "metadata": {
        "execution": {
          "iopub.status.busy": "2024-03-01T10:49:57.77139Z",
          "iopub.execute_input": "2024-03-01T10:49:57.771741Z",
          "iopub.status.idle": "2024-03-01T10:49:57.859062Z",
          "shell.execute_reply.started": "2024-03-01T10:49:57.771704Z",
          "shell.execute_reply": "2024-03-01T10:49:57.858188Z"
        },
        "trusted": true,
        "id": "pi4ehcvaCFBu"
      },
      "execution_count": 24,
      "outputs": []
    },
    {
      "cell_type": "code",
      "source": [
        "model = models.Sequential([\n",
        "    keras.Input(shape=(1,), dtype=tf.string),\n",
        "    vectorizer_layer,\n",
        "    layers.Embedding(MAX_FEATURES, EMBEDDING_DIM),\n",
        "\n",
        "    layers.SpatialDropout1D(0.2),\n",
        "    layers.GlobalMaxPooling1D(),\n",
        "    layers.Dropout(0.4),\n",
        "    layers.Dense(256, activation='gelu'),\n",
        "    layers.Dropout(0.4),\n",
        "    layers.Dense(N_CLASSES, activation='softmax'),\n",
        "])\n",
        "\n",
        "model.compile(\n",
        "    optimizer='adam',\n",
        "    loss='sparse_categorical_crossentropy',\n",
        "    metrics=['accuracy']\n",
        ")"
      ],
      "metadata": {
        "execution": {
          "iopub.status.busy": "2024-03-01T10:50:25.952725Z",
          "iopub.execute_input": "2024-03-01T10:50:25.953103Z",
          "iopub.status.idle": "2024-03-01T10:50:25.993778Z",
          "shell.execute_reply.started": "2024-03-01T10:50:25.953071Z",
          "shell.execute_reply": "2024-03-01T10:50:25.992993Z"
        },
        "trusted": true,
        "id": "LeL1NP89CFBu"
      },
      "execution_count": 25,
      "outputs": []
    },
    {
      "cell_type": "markdown",
      "source": [
        "# Train"
      ],
      "metadata": {
        "id": "x2D2MS1kCFBw"
      }
    },
    {
      "cell_type": "code",
      "source": [
        "X_train, y_train = train_df.sentence, train_df.label.cat.codes\n",
        "X_test,  y_test  =  test_df.sentence,  test_df.label.cat.codes\n",
        "\n",
        "history = model.fit(\n",
        "    x = X_train,\n",
        "    y = y_train,\n",
        "    validation_data=(X_test, y_test),\n",
        "    batch_size=256,\n",
        "    epochs=300,\n",
        "    verbose=1,\n",
        "    class_weight=class_weights,\n",
        "    callbacks=[keras.callbacks.EarlyStopping(patience=3)],\n",
        ")\n",
        "test_loss, test_acc = model.evaluate(X_test, y_test, verbose=2)"
      ],
      "metadata": {
        "execution": {
          "iopub.status.busy": "2024-03-01T10:50:25.995259Z",
          "iopub.execute_input": "2024-03-01T10:50:25.995567Z",
          "iopub.status.idle": "2024-03-01T10:50:36.006347Z",
          "shell.execute_reply.started": "2024-03-01T10:50:25.995543Z",
          "shell.execute_reply": "2024-03-01T10:50:36.005573Z"
        },
        "trusted": true,
        "id": "N7xjoBRMCFBx",
        "colab": {
          "base_uri": "https://localhost:8080/"
        },
        "outputId": "d5938b7a-053e-43e1-baa0-9376ab99c3b7"
      },
      "execution_count": 26,
      "outputs": [
        {
          "output_type": "stream",
          "name": "stdout",
          "text": [
            "Epoch 1/300\n",
            "33/33 [==============================] - 5s 123ms/step - loss: 0.6889 - accuracy: 0.5428 - val_loss: 0.6769 - val_accuracy: 0.6858\n",
            "Epoch 2/300\n",
            "33/33 [==============================] - 3s 104ms/step - loss: 0.6424 - accuracy: 0.6831 - val_loss: 0.5801 - val_accuracy: 0.7513\n",
            "Epoch 3/300\n",
            "33/33 [==============================] - 3s 104ms/step - loss: 0.4992 - accuracy: 0.7741 - val_loss: 0.4497 - val_accuracy: 0.7947\n",
            "Epoch 4/300\n",
            "33/33 [==============================] - 4s 132ms/step - loss: 0.3958 - accuracy: 0.8274 - val_loss: 0.4259 - val_accuracy: 0.8019\n",
            "Epoch 5/300\n",
            "33/33 [==============================] - 3s 102ms/step - loss: 0.3485 - accuracy: 0.8573 - val_loss: 0.4127 - val_accuracy: 0.8082\n",
            "Epoch 6/300\n",
            "33/33 [==============================] - 3s 103ms/step - loss: 0.3035 - accuracy: 0.8758 - val_loss: 0.4133 - val_accuracy: 0.8135\n",
            "Epoch 7/300\n",
            "33/33 [==============================] - 4s 133ms/step - loss: 0.2707 - accuracy: 0.8908 - val_loss: 0.4161 - val_accuracy: 0.8173\n",
            "Epoch 8/300\n",
            "33/33 [==============================] - 4s 106ms/step - loss: 0.2323 - accuracy: 0.9087 - val_loss: 0.4258 - val_accuracy: 0.8178\n",
            "65/65 - 0s - loss: 0.4258 - accuracy: 0.8178 - 167ms/epoch - 3ms/step\n"
          ]
        }
      ]
    },
    {
      "cell_type": "code",
      "source": [
        "def plot_history(history):\n",
        "    acc,  val_acc  = history['accuracy'],  history['val_accuracy']\n",
        "    loss, val_loss = history['loss'], history['val_loss']\n",
        "    x = range(1, len(acc) + 1)\n",
        "\n",
        "    plt.figure(figsize=(12, 5)); plt.subplot(1, 2, 1)\n",
        "\n",
        "    plt.plot(x, acc, 'b', label='Training acc')\n",
        "    plt.plot(x, val_acc, 'r', label='Validation acc')\n",
        "    plt.title('Training and validation accuracy'); plt.legend(); plt.subplot(1, 2, 2)\n",
        "\n",
        "    plt.plot(x, loss, 'b', label='Training loss')\n",
        "    plt.plot(x, val_loss, 'r', label='Validation loss')\n",
        "    plt.title('Training and validation loss'); plt.legend(); plt.show()\n",
        "\n",
        "plot_history(history.history)"
      ],
      "metadata": {
        "execution": {
          "iopub.status.busy": "2024-03-01T10:50:36.00775Z",
          "iopub.execute_input": "2024-03-01T10:50:36.00805Z",
          "iopub.status.idle": "2024-03-01T10:50:36.47283Z",
          "shell.execute_reply.started": "2024-03-01T10:50:36.008023Z",
          "shell.execute_reply": "2024-03-01T10:50:36.471874Z"
        },
        "trusted": true,
        "id": "U6Tohwg5CFBx",
        "colab": {
          "base_uri": "https://localhost:8080/",
          "height": 468
        },
        "outputId": "7b6cd3f7-9323-4b36-8604-611cf38367fd"
      },
      "execution_count": 27,
      "outputs": [
        {
          "output_type": "display_data",
          "data": {
            "text/plain": [
              "<Figure size 1200x500 with 2 Axes>"
            ],
            "image/png": "[encoded data removed]"
          },
          "metadata": {}
        }
      ]
    },
    {
      "cell_type": "markdown",
      "source": [
        "# Evaluate"
      ],
      "metadata": {
        "id": "B8ebk2SHCFBy"
      }
    },
    {
      "cell_type": "code",
      "source": [
        "y_pred = model.predict(X_test).argmax(1)\n",
        "\n",
        "print(classification_report(\n",
        "    y_test, y_pred, target_names=label_names\n",
        "))\n",
        "ConfusionMatrixDisplay.from_predictions(\n",
        "    y_test, y_pred, display_labels=label_names\n",
        ")"
      ],
      "metadata": {
        "execution": {
          "iopub.status.busy": "2024-03-01T10:50:36.474681Z",
          "iopub.execute_input": "2024-03-01T10:50:36.474976Z",
          "iopub.status.idle": "2024-03-01T10:50:37.186866Z",
          "shell.execute_reply.started": "2024-03-01T10:50:36.47495Z",
          "shell.execute_reply": "2024-03-01T10:50:37.185928Z"
        },
        "trusted": true,
        "id": "Yc1mvHEQCFBy",
        "colab": {
          "base_uri": "https://localhost:8080/",
          "height": 640
        },
        "outputId": "0943b7f9-4547-4b3a-e983-520dfa8f1c83"
      },
      "execution_count": 28,
      "outputs": [
        {
          "output_type": "stream",
          "name": "stdout",
          "text": [
            "65/65 [==============================] - 0s 3ms/step\n",
            "              precision    recall  f1-score   support\n",
            "\n",
            "   happiness       0.81      0.82      0.81      1015\n",
            "     sadness       0.82      0.82      0.82      1060\n",
            "\n",
            "    accuracy                           0.82      2075\n",
            "   macro avg       0.82      0.82      0.82      2075\n",
            "weighted avg       0.82      0.82      0.82      2075\n",
            "\n"
          ]
        },
        {
          "output_type": "execute_result",
          "data": {
            "text/plain": [
              "<sklearn.metrics._plot.confusion_matrix.ConfusionMatrixDisplay at 0x789d92c73b50>"
            ]
          },
          "metadata": {},
          "execution_count": 28
        },
        {
          "output_type": "display_data",
          "data": {
            "text/plain": [
              "<Figure size 640x480 with 2 Axes>"
            ],
            "image/png": "[encoded data removed]"
          },
          "metadata": {}
        }
      ]
    },
    {
      "cell_type": "code",
      "source": [
        "model.save('sentiment-for-nova.keras')"
      ],
      "metadata": {
        "execution": {
          "iopub.status.busy": "2024-03-01T10:50:37.188162Z",
          "iopub.execute_input": "2024-03-01T10:50:37.188813Z",
          "iopub.status.idle": "2024-03-01T10:50:37.286315Z",
          "shell.execute_reply.started": "2024-03-01T10:50:37.188777Z",
          "shell.execute_reply": "2024-03-01T10:50:37.285245Z"
        },
        "trusted": true,
        "id": "NUvyNJadCFBy"
      },
      "execution_count": 29,
      "outputs": []
    },
    {
      "cell_type": "markdown",
      "source": [
        "# Demo"
      ],
      "metadata": {
        "id": "fJZfmCDHCFBz"
      }
    },
    {
      "cell_type": "code",
      "source": [
        "text = [\n",
        "    \"I wish you didn't have to go... everything is so much brighter when you are around\",\n",
        "    \"this is amazing, I love it\",\n",
        "    \"I failed my driving test for the third time\",\n",
        "    \"meet me when you get back - I love being around you\",\n",
        "    \"My dog passed away last night\"\n",
        "]\n",
        "\n",
        "preds = model.predict(pd.Series(text)).argmax(1).squeeze()\n",
        "print([label_names[pred] for pred in preds])"
      ],
      "metadata": {
        "execution": {
          "iopub.status.busy": "2024-03-01T10:51:17.831409Z",
          "iopub.execute_input": "2024-03-01T10:51:17.831769Z",
          "iopub.status.idle": "2024-03-01T10:51:17.897859Z",
          "shell.execute_reply.started": "2024-03-01T10:51:17.83174Z",
          "shell.execute_reply": "2024-03-01T10:51:17.897019Z"
        },
        "trusted": true,
        "id": "QHQkbafeCFBz",
        "colab": {
          "base_uri": "https://localhost:8080/"
        },
        "outputId": "cc352be0-cc93-4c74-efdb-3d0ccbac512c"
      },
      "execution_count": 30,
      "outputs": [
        {
          "output_type": "stream",
          "name": "stdout",
          "text": [
            "1/1 [==============================] - 0s 23ms/step\n",
            "['sadness', 'happiness', 'sadness', 'happiness', 'sadness']\n"
          ]
        }
      ]
    }
  ]
}